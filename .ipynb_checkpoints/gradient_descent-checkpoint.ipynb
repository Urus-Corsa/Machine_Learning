{
 "cells": [
  {
   "cell_type": "code",
   "execution_count": 2,
   "id": "10483b6f-4f26-4994-9cbe-c4f7bc715de0",
   "metadata": {
    "editable": true,
    "slideshow": {
     "slide_type": ""
    },
    "tags": []
   },
   "outputs": [],
   "source": [
    "# Import modules"
   ]
  },
  {
   "cell_type": "code",
   "execution_count": 4,
   "id": "348a3bef-e982-4e63-805b-ecc088d15260",
   "metadata": {},
   "outputs": [],
   "source": [
    "import numpy as np"
   ]
  },
  {
   "cell_type": "code",
   "execution_count": 6,
   "id": "964d0126-fb00-44ef-9252-8118aa26ac09",
   "metadata": {},
   "outputs": [],
   "source": [
    "# Set seed to any number to be able to reproduce randomly generated values"
   ]
  },
  {
   "cell_type": "code",
   "execution_count": 8,
   "id": "d7448df1-b539-4b18-845d-952f48767785",
   "metadata": {
    "panel-layout": {
     "height": 0,
     "visible": true,
     "width": 100
    }
   },
   "outputs": [],
   "source": [
    "np.random.seed(42)"
   ]
  },
  {
   "cell_type": "code",
   "execution_count": 10,
   "id": "967da645-d3d2-4fc8-bd15-f8bf5c55eab3",
   "metadata": {
    "panel-layout": {
     "height": 0,
     "visible": true,
     "width": 100
    }
   },
   "outputs": [],
   "source": [
    "# Define f(x)=5(x^3)-20x+2 as Python function"
   ]
  },
  {
   "cell_type": "code",
   "execution_count": 82,
   "id": "63732e5e-5334-4d80-9a75-1b4e06f93d57",
   "metadata": {},
   "outputs": [],
   "source": [
    "def f1(x):\n",
    "    return 5*x**3-20*x+2"
   ]
  },
  {
   "cell_type": "code",
   "execution_count": 84,
   "id": "64391e95-fdc3-4fd8-80e4-10bd6f160ad0",
   "metadata": {},
   "outputs": [],
   "source": [
    "# Define f'(x) == 15(x^2)-18 == deravative of f(x) as a Python function"
   ]
  },
  {
   "cell_type": "code",
   "execution_count": 130,
   "id": "990c9814-d0e1-404f-852a-8473b9f7857d",
   "metadata": {},
   "outputs": [],
   "source": [
    "def f1_prime(x):\n",
    "    return 15*x**2-18"
   ]
  },
  {
   "cell_type": "code",
   "execution_count": 132,
   "id": "283117cb-bc4b-423d-9e6b-6bf2a2ea8bd5",
   "metadata": {},
   "outputs": [
    {
     "data": {
      "text/plain": [
       "'\\ngradiet_descent(x) Parameters\\nx: starting point on x-axis\\nlearning_rate: step size to be taken added onto x at each iterations\\niterations: number of times to take gradient_descent starting from x iteratively\\nslope_func: reference to derivative/slope-at-x function of desired f(x)\\n'"
      ]
     },
     "execution_count": 132,
     "metadata": {},
     "output_type": "execute_result"
    }
   ],
   "source": [
    "# Define Gradient Descent Python function\n",
    "\"\"\"\n",
    "gradiet_descent(x) Parameters\n",
    "x: starting point on x-axis\n",
    "learning_rate: step size to be taken added onto x at each iterations\n",
    "iterations: number of times to take gradient_descent starting from x iteratively\n",
    "slope_func: reference to derivative/slope-at-x function of desired f(x)\n",
    "\"\"\""
   ]
  },
  {
   "cell_type": "code",
   "execution_count": 139,
   "id": "92066b3b-d7ab-42c0-9818-d848d009bc7f",
   "metadata": {},
   "outputs": [],
   "source": [
    "def gradient_descent(x: float,  slope_func, learning_rate: float = 0.01, iterations: int = 1000) -> float:\n",
    "    for i in range(1,iterations+1):\n",
    "        # print(f\"x is {x} at {i} iteration\")\n",
    "        x -= learning_rate*slope_func(x)\n",
    "    return x"
   ]
  },
  {
   "cell_type": "code",
   "execution_count": 141,
   "id": "76677b26-6cca-4023-be52-22dffde5efd5",
   "metadata": {},
   "outputs": [
    {
     "name": "stdout",
     "output_type": "stream",
     "text": [
      "1.095445115010332\n"
     ]
    }
   ],
   "source": [
    "print(gradient_descent(np.random.rand(),f1_prime))"
   ]
  },
  {
   "cell_type": "code",
   "execution_count": null,
   "id": "76a2bc18-32a1-4440-b2c8-e567b0c3ee79",
   "metadata": {},
   "outputs": [],
   "source": []
  }
 ],
 "metadata": {
  "kernelspec": {
   "display_name": "Python [conda env:base] *",
   "language": "python",
   "name": "conda-base-py"
  },
  "language_info": {
   "codemirror_mode": {
    "name": "ipython",
    "version": 3
   },
   "file_extension": ".py",
   "mimetype": "text/x-python",
   "name": "python",
   "nbconvert_exporter": "python",
   "pygments_lexer": "ipython3",
   "version": "3.12.7"
  },
  "panel-cell-order": [
   "d7448df1-b539-4b18-845d-952f48767785",
   "967da645-d3d2-4fc8-bd15-f8bf5c55eab3"
  ]
 },
 "nbformat": 4,
 "nbformat_minor": 5
}
