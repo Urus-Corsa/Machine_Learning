{
 "cells": [
  {
   "cell_type": "markdown",
   "id": "import-libraries-md",
   "metadata": {},
   "source": [
    "## This notebook implements KNN(K Nearest Neighbor) Classifier algorithm"
   ]
  },
  {
   "cell_type": "code",
   "execution_count": 58,
   "id": "generate-samples",
   "metadata": {},
   "outputs": [],
   "source": [
    "import numpy as np\n",
    "import pandas as pd\n",
    "import matplotlib.pyplot as plt\n",
    "from sklearn.model_selection import train_test_split\n",
    "\n",
    "np.random.seed(42)"
   ]
  },
  {
   "cell_type": "markdown",
   "id": "generate-samples-md",
   "metadata": {},
   "source": [
    "#### 2-D matrix input data consisting of 100 synthetic samples to + even split of binary class labels as last column\n",
    "| dim1 | dim2 | label |\n",
    "|------|------|-------|\n",
    "|x11|x12|y1|\n",
    "|x21|x22|y2|\n",
    "|  ... |  ... |  ...  | \n",
    "|x1001|x1002|y100|"
   ]
  },
  {
   "cell_type": "code",
   "execution_count": 59,
   "id": "class1-dim1",
   "metadata": {},
   "outputs": [],
   "source": [
    "number_of_synthetic_samples = 100"
   ]
  },
  {
   "cell_type": "markdown",
   "metadata": {},
   "source": [
    "#### class 0's dimension 1 to be drawn from Guassian distribution with mean of -2 & standard deviation of 2, assume half of sample size is labeled class 0"
   ]
  },
  {
   "cell_type": "code",
   "execution_count": 60,
   "metadata": {},
   "outputs": [
    {
     "data": {
      "text/plain": [
       "(50,)"
      ]
     },
     "execution_count": 60,
     "metadata": {},
     "output_type": "execute_result"
    }
   ],
   "source": [
    "dim1_class0_input = np.random.normal(loc=-2.0, scale=2.0, size=number_of_synthetic_samples//2)\n",
    "dim1_class0_input.shape"
   ]
  },
  {
   "cell_type": "markdown",
   "id": "class0-dim1-md",
   "metadata": {},
   "source": [
    "#### class 1's dimension 1 to be drawn from Guassian distribution with mean of +2 & standard deviation of 2, assume half of sample size is labeled class 1"
   ]
  },
  {
   "cell_type": "code",
   "execution_count": 61,
   "metadata": {},
   "outputs": [
    {
     "data": {
      "text/plain": [
       "(50,)"
      ]
     },
     "execution_count": 61,
     "metadata": {},
     "output_type": "execute_result"
    }
   ],
   "source": [
    "dim1_class1_input = np.random.normal(loc=2.0, scale=2.0, size=number_of_synthetic_samples//2)\n",
    "dim1_class1_input.shape"
   ]
  },
  {
   "cell_type": "markdown",
   "id": "concat-dim1",
   "metadata": {},
   "source": [
    "#### dim1 column = (dim1_class0 (50 samples w specified population parameters of dim1_class0) + dim1_class1 (50 samples w specified population parameters of dim1_class1))"
   ]
  },
  {
   "cell_type": "code",
   "execution_count": 62,
   "metadata": {},
   "outputs": [
    {
     "data": {
      "text/plain": [
       "(100,)"
      ]
     },
     "execution_count": 62,
     "metadata": {},
     "output_type": "execute_result"
    }
   ],
   "source": [
    "all_dim1_input = np.concatenate((dim1_class0_input, dim1_class1_input,), axis=0)\n",
    "all_dim1_input.shape"
   ]
  },
  {
   "cell_type": "markdown",
   "id": "dim2-input",
   "metadata": {},
   "source": [
    "#### class 0's & class 1's dimension 2 are both to be drawn from Normal dist. with mean of 0 & and standard deviation of 1"
   ]
  },
  {
   "cell_type": "code",
   "execution_count": 63,
   "metadata": {},
   "outputs": [
    {
     "data": {
      "text/plain": [
       "(100,)"
      ]
     },
     "execution_count": 63,
     "metadata": {},
     "output_type": "execute_result"
    }
   ],
   "source": [
    "all_dim2_input = np.random.normal(loc=0.0, scale=1.0, size=number_of_synthetic_samples)\n",
    "all_dim2_input.shape"
   ]
  },
  {
   "cell_type": "markdown",
   "id": "generate-labels",
   "metadata": {},
   "source": [
    "#### since dim1 column = dim1_class0 (50 samples w specified population parameters of dim1_class0) + dim1_class1 (50 samples w specified population parameters of dim1_class1), 1st 50 must be labeled 0 & 2nd 50 labeled 1"
   ]
  },
  {
   "cell_type": "code",
   "execution_count": 64,
   "metadata": {},
   "outputs": [
    {
     "name": "stdout",
     "output_type": "stream",
     "text": [
      "1st 50 labels:[0, 0, 0, 0, 0, 0, 0, 0, 0, 0, 0, 0, 0, 0, 0, 0, 0, 0, 0, 0, 0, 0, 0, 0, 0, 0, 0, 0, 0, 0, 0, 0, 0, 0, 0, 0, 0, 0, 0, 0, 0, 0, 0, 0, 0, 0, 0, 0, 0, 0]\n",
      "2nd 50 labels:[1, 1, 1, 1, 1, 1, 1, 1, 1, 1, 1, 1, 1, 1, 1, 1, 1, 1, 1, 1, 1, 1, 1, 1, 1, 1, 1, 1, 1, 1, 1, 1, 1, 1, 1, 1, 1, 1, 1, 1, 1, 1, 1, 1, 1, 1, 1, 1, 1, 1]\n"
     ]
    }
   ],
   "source": [
    "class0_labels = [0]*(number_of_synthetic_samples//2)\n",
    "class1_labels = [1]*(number_of_synthetic_samples//2)\n",
    "all_labels = class0_labels+class1_labels\n",
    "print(f'1st 50 labels:{all_labels[:50]}\\n2nd 50 labels:{all_labels[50:]}')"
   ]
  },
  {
   "cell_type": "markdown",
   "id": "create-dataframe",
   "metadata": {},
   "source": [
    "#### turn matrix into dataframe with 100 rows (observations) & 2+1 columns, 2(features/dimensions) + 1(labels)"
   ]
  },
  {
   "cell_type": "code",
   "execution_count": 65,
   "metadata": {},
   "outputs": [
    {
     "data": {
      "text/html": [
       "<div>\n",
       "<style scoped>\n",
       "    .dataframe tbody tr th:only-of-type {\n",
       "        vertical-align: middle;\n",
       "    }\n",
       "\n",
       "    .dataframe tbody tr th {\n",
       "        vertical-align: top;\n",
       "    }\n",
       "\n",
       "    .dataframe thead th {\n",
       "        text-align: right;\n",
       "    }\n",
       "</style>\n",
       "<table border=\"1\" class=\"dataframe\">\n",
       "  <thead>\n",
       "    <tr style=\"text-align: right;\">\n",
       "      <th></th>\n",
       "      <th>dim1</th>\n",
       "      <th>dim2</th>\n",
       "      <th>labels</th>\n",
       "    </tr>\n",
       "  </thead>\n",
       "  <tbody>\n",
       "    <tr>\n",
       "      <th>0</th>\n",
       "      <td>-1.006572</td>\n",
       "      <td>-1.415371</td>\n",
       "      <td>0</td>\n",
       "    </tr>\n",
       "    <tr>\n",
       "      <th>1</th>\n",
       "      <td>-2.276529</td>\n",
       "      <td>-0.420645</td>\n",
       "      <td>0</td>\n",
       "    </tr>\n",
       "    <tr>\n",
       "      <th>2</th>\n",
       "      <td>-0.704623</td>\n",
       "      <td>-0.342715</td>\n",
       "      <td>0</td>\n",
       "    </tr>\n",
       "    <tr>\n",
       "      <th>3</th>\n",
       "      <td>1.046060</td>\n",
       "      <td>-0.802277</td>\n",
       "      <td>0</td>\n",
       "    </tr>\n",
       "    <tr>\n",
       "      <th>4</th>\n",
       "      <td>-2.468307</td>\n",
       "      <td>-0.161286</td>\n",
       "      <td>0</td>\n",
       "    </tr>\n",
       "    <tr>\n",
       "      <th>5</th>\n",
       "      <td>-2.468274</td>\n",
       "      <td>0.404051</td>\n",
       "      <td>0</td>\n",
       "    </tr>\n",
       "    <tr>\n",
       "      <th>6</th>\n",
       "      <td>1.158426</td>\n",
       "      <td>1.886186</td>\n",
       "      <td>0</td>\n",
       "    </tr>\n",
       "    <tr>\n",
       "      <th>7</th>\n",
       "      <td>-0.465131</td>\n",
       "      <td>0.174578</td>\n",
       "      <td>0</td>\n",
       "    </tr>\n",
       "    <tr>\n",
       "      <th>8</th>\n",
       "      <td>-2.938949</td>\n",
       "      <td>0.257550</td>\n",
       "      <td>0</td>\n",
       "    </tr>\n",
       "    <tr>\n",
       "      <th>9</th>\n",
       "      <td>-0.914880</td>\n",
       "      <td>-0.074446</td>\n",
       "      <td>0</td>\n",
       "    </tr>\n",
       "  </tbody>\n",
       "</table>\n",
       "</div>"
      ],
      "text/plain": [
       "       dim1      dim2  labels\n",
       "0 -1.006572 -1.415371       0\n",
       "1 -2.276529 -0.420645       0\n",
       "2 -0.704623 -0.342715       0\n",
       "3  1.046060 -0.802277       0\n",
       "4 -2.468307 -0.161286       0\n",
       "5 -2.468274  0.404051       0\n",
       "6  1.158426  1.886186       0\n",
       "7 -0.465131  0.174578       0\n",
       "8 -2.938949  0.257550       0\n",
       "9 -0.914880 -0.074446       0"
      ]
     },
     "execution_count": 65,
     "metadata": {},
     "output_type": "execute_result"
    }
   ],
   "source": [
    "df = pd.DataFrame({'dim1':all_dim1_input, 'dim2': all_dim2_input, 'labels':all_labels}, columns=['dim1','dim2','labels'])\n",
    "df.head(10)"
   ]
  },
  {
   "cell_type": "code",
   "execution_count": 66,
   "id": "plot-data",
   "metadata": {},
   "outputs": [
    {
     "data": {
      "text/plain": [
       "Text(0, 0.5, 'dimension2')"
      ]
     },
     "execution_count": 66,
     "metadata": {},
     "output_type": "execute_result"
    },
    {
     "data": {
      "image/png": "[encoded data removed]",
      "text/plain": [
       "<Figure size 640x480 with 1 Axes>"
      ]
     },
     "metadata": {},
     "output_type": "display_data"
    }
   ],
   "source": [
    "plt.scatter(x=all_dim1_input, y=all_dim2_input, s=15, c='g')\n",
    "plt.title('dimension1 vs dimension2 Plot')\n",
    "plt.xlabel('dimension1')\n",
    "plt.ylabel('dimension2')"
   ]
  },
  {
   "cell_type": "markdown",
   "metadata": {},
   "source": [
    "#### dimension1 data points are more disperesed, making data more separable for classification and pattern recignition"
   ]
  },
  {
   "cell_type": "code",
   "execution_count": 67,
   "metadata": {},
   "outputs": [
    {
     "data": {
      "text/plain": [
       "Text(0, 0.5, 'labels')"
      ]
     },
     "execution_count": 67,
     "metadata": {},
     "output_type": "execute_result"
    },
    {
     "data": {
      "image/png": "[encoded data removed]",
      "text/plain": [
       "<Figure size 640x480 with 1 Axes>"
      ]
     },
     "metadata": {},
     "output_type": "display_data"
    }
   ],
   "source": [
    "plt.scatter(x=all_dim1_input, y=all_labels, s=10, c='r')\n",
    "plt.title('dimension1 vs labels Plot')\n",
    "plt.xlabel('dimension1')\n",
    "plt.ylabel('labels')"
   ]
  },
  {
   "cell_type": "markdown",
   "metadata": {},
   "source": [
    "#### dimension2 data points are not disperesed or separable, neither of two impose a clear pattern for classifier"
   ]
  },
  {
   "cell_type": "code",
   "execution_count": 68,
   "metadata": {},
   "outputs": [
    {
     "data": {
      "text/plain": [
       "Text(0, 0.5, 'labels')"
      ]
     },
     "execution_count": 68,
     "metadata": {},
     "output_type": "execute_result"
    },
    {
     "data": {
      "image/png": "[encoded data removed]",
      "text/plain": [
       "<Figure size 640x480 with 1 Axes>"
      ]
     },
     "metadata": {},
     "output_type": "display_data"
    }
   ],
   "source": [
    "plt.scatter(x=all_dim2_input, y=all_labels, s=10, c='b')\n",
    "plt.title('dimension2 vs labels Plot')\n",
    "plt.xlabel('dimension2')\n",
    "plt.ylabel('labels')"
   ]
  },
  {
   "cell_type": "markdown",
   "metadata": {},
   "source": [
    "#### splitData() function wraps around train_test_split() from sklearn.model_selection to perform a default 80/20 split between training & holdout set regardless of dataFrame's dimensions, assuming dataFrame's last column consists of class labels"
   ]
  },
  {
   "cell_type": "code",
   "execution_count": 69,
   "metadata": {},
   "outputs": [],
   "source": [
    "def splitData(dataFrame: pd.DataFrame, training_set_size: float = 0.8, holdout_set_size: float = 0.2) -> list:\n",
    "  if training_set_size+holdout_set_size!=1.0:\n",
    "    raise Exception(f\"Provided split (training: {training_set_size}, test: {holdout_set_size}) is NOT possible\\nThe splits sum should be 1.0 \")\n",
    "  return train_test_split(dataFrame.iloc[:,:-1], dataFrame.iloc[:,-1], \n",
    "                          train_size=training_set_size, test_size=holdout_set_size, random_state=42) "
   ]
  },
  {
   "cell_type": "code",
   "execution_count": 70,
   "metadata": {},
   "outputs": [
    {
     "data": {
      "text/plain": [
       "((80, 2), (80,), (20, 2), (20,))"
      ]
     },
     "execution_count": 70,
     "metadata": {},
     "output_type": "execute_result"
    }
   ],
   "source": [
    "training_set_input, holdout_set_input, training_set_labels, holdout_set_labels = splitData(df)\n",
    "training_set_input.shape, training_set_labels.shape, holdout_set_input.shape, holdout_set_labels.shape"
   ]
  },
  {
   "cell_type": "code",
   "execution_count": 71,
   "metadata": {},
   "outputs": [],
   "source": [
    "# def knn(newObservation, refDataFrame: pd.DataFrame, k: int = 3):\n",
    "  "
   ]
  }
 ],
 "metadata": {
  "kernelspec": {
   "display_name": "base",
   "language": "python",
   "name": "python3"
  },
  "language_info": {
   "codemirror_mode": {
    "name": "ipython",
    "version": 3
   },
   "file_extension": ".py",
   "mimetype": "text/x-python",
   "name": "python",
   "nbconvert_exporter": "python",
   "pygments_lexer": "ipython3",
   "version": "3.12.7"
  }
 },
 "nbformat": 4,
 "nbformat_minor": 2
}
