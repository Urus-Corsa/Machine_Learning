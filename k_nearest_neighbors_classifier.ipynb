{
 "cells": [
  {
   "cell_type": "markdown",
   "id": "import-libraries-md",
   "metadata": {},
   "source": [
    "## This notebook implements KNN(K Nearest Neighbor) Classifier algorithm"
   ]
  },
  {
   "cell_type": "code",
   "execution_count": 1,
   "id": "generate-samples",
   "metadata": {},
   "outputs": [],
   "source": [
    "import numpy as np\n",
    "import pandas as pd\n",
    "import matplotlib.pyplot as plt\n",
    "\n",
    "np.random.seed(42)"
   ]
  },
  {
   "cell_type": "markdown",
   "id": "generate-samples-md",
   "metadata": {},
   "source": [
    "#### 2-D matrix input data consisting of 100 synthetic samples to + even split of binary class labels as last column\n",
    "| dim1 | dim2 | label |\n",
    "|------|------|-------|\n",
    "|x11|x12|y1|\n",
    "|x21|x22|y2|\n",
    "|  ... |  ... |  ...  | \n",
    "|x1001|x1002|y100|"
   ]
  },
  {
   "cell_type": "code",
   "execution_count": 2,
   "id": "class1-dim1",
   "metadata": {},
   "outputs": [],
   "source": [
    "number_of_synthetic_samples = 100"
   ]
  },
  {
   "cell_type": "markdown",
   "metadata": {},
   "source": [
    "#### class 0's dimension 1 to be drawn from Guassian distribution with mean of -2 & standard deviation of 2, assume half of sample size is labeled class 0"
   ]
  },
  {
   "cell_type": "code",
   "execution_count": 3,
   "metadata": {},
   "outputs": [
    {
     "data": {
      "text/plain": [
       "(50,)"
      ]
     },
     "execution_count": 3,
     "metadata": {},
     "output_type": "execute_result"
    }
   ],
   "source": [
    "dim1_class0_input = np.random.normal(loc=-2.0, scale=2.0, size=number_of_synthetic_samples//2)\n",
    "dim1_class0_input.shape"
   ]
  },
  {
   "cell_type": "markdown",
   "id": "class0-dim1-md",
   "metadata": {},
   "source": [
    "#### class 1's dimension 1 to be drawn from Guassian distribution with mean of +2 & standard deviation of 2, assume half of sample size is labeled class 1"
   ]
  },
  {
   "cell_type": "code",
   "execution_count": 4,
   "metadata": {},
   "outputs": [
    {
     "data": {
      "text/plain": [
       "(50,)"
      ]
     },
     "execution_count": 4,
     "metadata": {},
     "output_type": "execute_result"
    }
   ],
   "source": [
    "dim1_class1_input = np.random.normal(loc=2.0, scale=2.0, size=number_of_synthetic_samples//2)\n",
    "dim1_class1_input.shape"
   ]
  },
  {
   "cell_type": "markdown",
   "id": "concat-dim1",
   "metadata": {},
   "source": [
    "#### dim1 column = (dim1_class0 (50 samples w specified population parameters of dim1_class0) + dim1_class1 (50 samples w specified population parameters of dim1_class1))"
   ]
  },
  {
   "cell_type": "code",
   "execution_count": 5,
   "metadata": {},
   "outputs": [
    {
     "data": {
      "text/plain": [
       "(100,)"
      ]
     },
     "execution_count": 5,
     "metadata": {},
     "output_type": "execute_result"
    }
   ],
   "source": [
    "all_dim1_input = np.concatenate((dim1_class0_input, dim1_class1_input,), axis=0)\n",
    "all_dim1_input.shape"
   ]
  },
  {
   "cell_type": "markdown",
   "id": "dim2-input",
   "metadata": {},
   "source": [
    "#### class 0's & class 1's dimension 2 are both to be drawn from Normal dist. with mean of 0 & and standard deviation of 1"
   ]
  },
  {
   "cell_type": "code",
   "execution_count": 10,
   "metadata": {},
   "outputs": [
    {
     "data": {
      "text/plain": [
       "(100,)"
      ]
     },
     "execution_count": 10,
     "metadata": {},
     "output_type": "execute_result"
    }
   ],
   "source": [
    "all_dim2_input = np.random.normal(loc=0.0, scale=1.0, size=number_of_synthetic_samples)\n",
    "all_dim2_input.shape"
   ]
  },
  {
   "cell_type": "markdown",
   "id": "generate-labels",
   "metadata": {},
   "source": [
    "#### since dim1 column = dim1_class0 (50 samples w specified population parameters of dim1_class0) + dim1_class1 (50 samples w specified population parameters of dim1_class1), 1st 50 must be labeled 0 & 2nd 50 labeled 1"
   ]
  },
  {
   "cell_type": "code",
   "execution_count": 13,
   "metadata": {},
   "outputs": [
    {
     "name": "stdout",
     "output_type": "stream",
     "text": [
      "1st 50 labels:[0, 0, 0, 0, 0, 0, 0, 0, 0, 0, 0, 0, 0, 0, 0, 0, 0, 0, 0, 0, 0, 0, 0, 0, 0, 0, 0, 0, 0, 0, 0, 0, 0, 0, 0, 0, 0, 0, 0, 0, 0, 0, 0, 0, 0, 0, 0, 0, 0, 0]\n",
      "2nd 50 labels:[1, 1, 1, 1, 1, 1, 1, 1, 1, 1, 1, 1, 1, 1, 1, 1, 1, 1, 1, 1, 1, 1, 1, 1, 1, 1, 1, 1, 1, 1, 1, 1, 1, 1, 1, 1, 1, 1, 1, 1, 1, 1, 1, 1, 1, 1, 1, 1, 1, 1]\n"
     ]
    }
   ],
   "source": [
    "class0_labels = [0]*(number_of_synthetic_samples//2)\n",
    "class1_labels = [1]*(number_of_synthetic_samples//2)\n",
    "all_labels = class0_labels+class1_labels\n",
    "print(f'1st 50 labels:{all_labels[:50]}\\n2nd 50 labels:{all_labels[50:]}')"
   ]
  },
  {
   "cell_type": "markdown",
   "id": "create-dataframe",
   "metadata": {},
   "source": [
    "#### turn matrix into dataframe with 100 rows (observations) & 2+1 columns, 2(features/dimensions) + 1(labels)"
   ]
  },
  {
   "cell_type": "code",
   "execution_count": 8,
   "metadata": {},
   "outputs": [
    {
     "data": {
      "text/html": [
       "<div>\n",
       "<style scoped>\n",
       "    .dataframe tbody tr th:only-of-type {\n",
       "        vertical-align: middle;\n",
       "    }\n",
       "\n",
       "    .dataframe tbody tr th {\n",
       "        vertical-align: top;\n",
       "    }\n",
       "\n",
       "    .dataframe thead th {\n",
       "        text-align: right;\n",
       "    }\n",
       "</style>\n",
       "<table border=\"1\" class=\"dataframe\">\n",
       "  <thead>\n",
       "    <tr style=\"text-align: right;\">\n",
       "      <th></th>\n",
       "      <th>dim1</th>\n",
       "      <th>dim2</th>\n",
       "      <th>labels</th>\n",
       "    </tr>\n",
       "  </thead>\n",
       "  <tbody>\n",
       "    <tr>\n",
       "      <th>0</th>\n",
       "      <td>-1.006572</td>\n",
       "      <td>-1.415371</td>\n",
       "      <td>0</td>\n",
       "    </tr>\n",
       "    <tr>\n",
       "      <th>1</th>\n",
       "      <td>-2.276529</td>\n",
       "      <td>-0.420645</td>\n",
       "      <td>0</td>\n",
       "    </tr>\n",
       "    <tr>\n",
       "      <th>2</th>\n",
       "      <td>-0.704623</td>\n",
       "      <td>-0.342715</td>\n",
       "      <td>0</td>\n",
       "    </tr>\n",
       "    <tr>\n",
       "      <th>3</th>\n",
       "      <td>1.046060</td>\n",
       "      <td>-0.802277</td>\n",
       "      <td>0</td>\n",
       "    </tr>\n",
       "    <tr>\n",
       "      <th>4</th>\n",
       "      <td>-2.468307</td>\n",
       "      <td>-0.161286</td>\n",
       "      <td>0</td>\n",
       "    </tr>\n",
       "  </tbody>\n",
       "</table>\n",
       "</div>"
      ],
      "text/plain": [
       "       dim1      dim2  labels\n",
       "0 -1.006572 -1.415371       0\n",
       "1 -2.276529 -0.420645       0\n",
       "2 -0.704623 -0.342715       0\n",
       "3  1.046060 -0.802277       0\n",
       "4 -2.468307 -0.161286       0"
      ]
     },
     "execution_count": 8,
     "metadata": {},
     "output_type": "execute_result"
    }
   ],
   "source": [
    "df = pd.DataFrame({'dim1':all_dim1_input, 'dim2': all_dim2_input, 'labels':all_labels}, columns=['dim1','dim2','labels'])\n",
    "df.head()"
   ]
  },
  {
   "cell_type": "code",
   "execution_count": 23,
   "id": "plot-data",
   "metadata": {},
   "outputs": [
    {
     "data": {
      "image/png": "[encoded data removed]",
      "text/plain": [
       "<Figure size 640x480 with 1 Axes>"
      ]
     },
     "metadata": {},
     "output_type": "display_data"
    }
   ],
   "source": [
    "plt.scatter(x=all_dim1_input, y=all_dim2_input, s=15, c='g')\n",
    "plt.title('x-axis: dimension1 vs y-axis: dimension2')"
   ]
  },
  {
   "cell_type": "markdown",
   "metadata": {},
   "source": [
    "#### dimension1 data points are more disperesed, making data more separable for classification and pattern recignition"
   ]
  },
  {
   "cell_type": "code",
   "execution_count": 24,
   "metadata": {},
   "outputs": [
    {
     "data": {
      "text/plain": [
       "Text(0.5, 1.0, 'x-axis: dimension1 vs y-axis: labels')"
      ]
     },
     "execution_count": 24,
     "metadata": {},
     "output_type": "execute_result"
    },
    {
     "data": {
      "image/png": "[encoded data removed]",
      "text/plain": [
       "<Figure size 640x480 with 1 Axes>"
      ]
     },
     "metadata": {},
     "output_type": "display_data"
    }
   ],
   "source": [
    "plt.scatter(x=all_dim1_input, y=all_labels, s=10, c='r')\n",
    "plt.title('x-axis: dimension1 vs y-axis: labels')"
   ]
  },
  {
   "cell_type": "markdown",
   "metadata": {},
   "source": [
    "#### dimension2 data points are not disperesed or separable, neither of two impose a clear pattern for classifier"
   ]
  },
  {
   "cell_type": "code",
   "execution_count": 26,
   "metadata": {},
   "outputs": [
    {
     "data": {
      "text/plain": [
       "Text(0.5, 1.0, 'x-axis: dimension2 vs y-axis: labels')"
      ]
     },
     "execution_count": 26,
     "metadata": {},
     "output_type": "execute_result"
    },
    {
     "data": {
      "image/png": "[encoded data removed]",
      "text/plain": [
       "<Figure size 640x480 with 1 Axes>"
      ]
     },
     "metadata": {},
     "output_type": "display_data"
    }
   ],
   "source": [
    "plt.scatter(x=all_dim2_input, y=all_labels, s=10, c='b')\n",
    "plt.title('x-axis: dimension2 vs y-axis: labels')"
   ]
  }
 ],
 "metadata": {
  "kernelspec": {
   "display_name": "base",
   "language": "python",
   "name": "python3"
  },
  "language_info": {
   "codemirror_mode": {
    "name": "ipython",
    "version": 3
   },
   "file_extension": ".py",
   "mimetype": "text/x-python",
   "name": "python",
   "nbconvert_exporter": "python",
   "pygments_lexer": "ipython3",
   "version": "3.12.7"
  }
 },
 "nbformat": 4,
 "nbformat_minor": 2
}
