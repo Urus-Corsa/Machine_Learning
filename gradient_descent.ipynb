{
 "cells": [
  {
   "cell_type": "markdown",
   "id": "7cf57a5b",
   "metadata": {},
   "source": [
    "# This notebook implements a basic Gradient Descent function\n",
    "#### 1. Given desired f(x), defines f`(x) as a funcrtion\n",
    "#### 2. Computes its gradient descent at a random given point using 0.01 learning rate after 1000 iterations as default"
   ]
  },
  {
   "cell_type": "markdown",
   "id": "10483b6f-4f26-4994-9cbe-c4f7bc715de0",
   "metadata": {
    "editable": true,
    "slideshow": {
     "slide_type": ""
    },
    "tags": []
   },
   "source": [
    "### Import modules"
   ]
  },
  {
   "cell_type": "code",
   "execution_count": 19,
   "id": "348a3bef-e982-4e63-805b-ecc088d15260",
   "metadata": {},
   "outputs": [],
   "source": [
    "import numpy as np"
   ]
  },
  {
   "cell_type": "markdown",
   "id": "964d0126-fb00-44ef-9252-8118aa26ac09",
   "metadata": {},
   "source": [
    "### Set seed to any number to be able to reproduce randomly generated values"
   ]
  },
  {
   "cell_type": "code",
   "execution_count": 20,
   "id": "d7448df1-b539-4b18-845d-952f48767785",
   "metadata": {
    "panel-layout": {
     "height": 0,
     "visible": true,
     "width": 100
    }
   },
   "outputs": [],
   "source": [
    "np.random.seed(42)"
   ]
  },
  {
   "cell_type": "markdown",
   "id": "967da645-d3d2-4fc8-bd15-f8bf5c55eab3",
   "metadata": {
    "panel-layout": {
     "height": 0,
     "visible": true,
     "width": 100
    }
   },
   "source": [
    "### Define f(x)=5(x^3)-20x+2 as Python function"
   ]
  },
  {
   "cell_type": "code",
   "execution_count": 21,
   "id": "63732e5e-5334-4d80-9a75-1b4e06f93d57",
   "metadata": {},
   "outputs": [],
   "source": [
    "def f1(x):\n",
    "    return 5*x**3-20*x+2"
   ]
  },
  {
   "cell_type": "markdown",
   "id": "64391e95-fdc3-4fd8-80e4-10bd6f160ad0",
   "metadata": {},
   "source": [
    "### Define f'(x) == 15(x^2)-18 == deravative of f(x) as a Python function"
   ]
  },
  {
   "cell_type": "code",
   "execution_count": 22,
   "id": "990c9814-d0e1-404f-852a-8473b9f7857d",
   "metadata": {},
   "outputs": [],
   "source": [
    "def f1_prime(x):\n",
    "    return 15*x**2-18"
   ]
  },
  {
   "cell_type": "markdown",
   "id": "7603d471-afbd-45fa-889a-3dbf23837f43",
   "metadata": {},
   "source": [
    "### Define Gradient Descent Python function\n",
    "\"\"\"\n",
    "gradiet_descent(x) Parameters\n",
    "x: starting point on x-axis\n",
    "learning_rate: step size to be taken added onto x at each iterations\n",
    "iterations: number of times to take gradient_descent starting from x iteratively\n",
    "slope_func: reference to derivative/slope-at-x function of desired f(x)\n",
    "\"\"\""
   ]
  },
  {
   "cell_type": "code",
   "execution_count": 23,
   "id": "92066b3b-d7ab-42c0-9818-d848d009bc7f",
   "metadata": {},
   "outputs": [],
   "source": [
    "def gradient_descent(x: float,  slope_func, learning_rate: float = 0.01, iterations: int = 1000) -> float:\n",
    "    for _ in range(1, iterations+1):\n",
    "        # print(f\"x is {x} at {i} iteration\")\n",
    "        x -= learning_rate*slope_func(x)\n",
    "    return x"
   ]
  },
  {
   "cell_type": "markdown",
   "id": "a815c04f",
   "metadata": {},
   "source": [
    "### Call gradient_descent function with some random value and slope function of f1(x)"
   ]
  },
  {
   "cell_type": "code",
   "execution_count": null,
   "id": "76677b26-6cca-4023-be52-22dffde5efd5",
   "metadata": {},
   "outputs": [],
   "source": [
    "print(gradient_descent(np.random.rand(),f1_prime))"
   ]
  }
 ],
 "metadata": {
  "kernelspec": {
   "display_name": "base",
   "language": "python",
   "name": "python3"
  },
  "language_info": {
   "codemirror_mode": {
    "name": "ipython",
    "version": 3
   },
   "file_extension": ".py",
   "mimetype": "text/x-python",
   "name": "python",
   "nbconvert_exporter": "python",
   "pygments_lexer": "ipython3",
   "version": "3.12.7"
  },
  "panel-cell-order": [
   "d7448df1-b539-4b18-845d-952f48767785",
   "967da645-d3d2-4fc8-bd15-f8bf5c55eab3"
  ]
 },
 "nbformat": 4,
 "nbformat_minor": 5
}
